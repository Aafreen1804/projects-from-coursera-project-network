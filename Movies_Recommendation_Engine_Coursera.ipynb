{
  "nbformat": 4,
  "nbformat_minor": 0,
  "metadata": {
    "colab": {
      "name": "Movies_Recommendation_Engine_Coursera_[Starter].ipynb",
      "provenance": [],
      "collapsed_sections": [],
      "toc_visible": true
    },
    "kernelspec": {
      "display_name": "Python 3",
      "language": "python",
      "name": "python3"
    },
    "language_info": {
      "codemirror_mode": {
        "name": "ipython",
        "version": 3
      },
      "file_extension": ".py",
      "mimetype": "text/x-python",
      "name": "python",
      "nbconvert_exporter": "python",
      "pygments_lexer": "ipython3",
      "version": "3.6.9"
    }
  },
  "cells": [
    {
      "cell_type": "markdown",
      "metadata": {
        "id": "zB8u4dxNLx2y"
      },
      "source": [
        "## **Collaborative filtering is a technique that can filter out items that a user might like on the basis of reactions by similar users**\n",
        "\n",
        "---\n",
        "\n"
      ]
    },
    {
      "cell_type": "markdown",
      "metadata": {
        "id": "eMZcgcQsm-9y"
      },
      "source": [
        "## 1.1: Installing Libraries"
      ]
    },
    {
      "cell_type": "code",
      "metadata": {
        "id": "HNmYMKhCnITm",
        "outputId": "7fabf5d2-9f47-4fdc-d3a9-3f51f5912e55",
        "colab": {
          "base_uri": "https://localhost:8080/",
          "height": 309
        }
      },
      "source": [
        "print('>> Installing Libraries')\n",
        "\n",
        "!pip3 install scikit-surprise\n",
        "\n",
        "print('>> Libraries Installed')"
      ],
      "execution_count": null,
      "outputs": [
        {
          "output_type": "stream",
          "text": [
            ">> Installing Libraries\n",
            "Collecting scikit-surprise\n",
            "\u001b[?25l  Downloading https://files.pythonhosted.org/packages/97/37/5d334adaf5ddd65da99fc65f6507e0e4599d092ba048f4302fe8775619e8/scikit-surprise-1.1.1.tar.gz (11.8MB)\n",
            "\u001b[K     |████████████████████████████████| 11.8MB 3.7MB/s \n",
            "\u001b[?25hRequirement already satisfied: joblib>=0.11 in /usr/local/lib/python3.6/dist-packages (from scikit-surprise) (0.16.0)\n",
            "Requirement already satisfied: numpy>=1.11.2 in /usr/local/lib/python3.6/dist-packages (from scikit-surprise) (1.18.5)\n",
            "Requirement already satisfied: scipy>=1.0.0 in /usr/local/lib/python3.6/dist-packages (from scikit-surprise) (1.4.1)\n",
            "Requirement already satisfied: six>=1.10.0 in /usr/local/lib/python3.6/dist-packages (from scikit-surprise) (1.15.0)\n",
            "Building wheels for collected packages: scikit-surprise\n",
            "  Building wheel for scikit-surprise (setup.py) ... \u001b[?25l\u001b[?25hdone\n",
            "  Created wheel for scikit-surprise: filename=scikit_surprise-1.1.1-cp36-cp36m-linux_x86_64.whl size=1670942 sha256=87470b3cab00d40e4858e97761f51caa75c08d0871c42f39aaf5cdbf51f12345\n",
            "  Stored in directory: /root/.cache/pip/wheels/78/9c/3d/41b419c9d2aff5b6e2b4c0fc8d25c538202834058f9ed110d0\n",
            "Successfully built scikit-surprise\n",
            "Installing collected packages: scikit-surprise\n",
            "Successfully installed scikit-surprise-1.1.1\n",
            ">> Libraries Installed\n"
          ],
          "name": "stdout"
        }
      ]
    },
    {
      "cell_type": "markdown",
      "metadata": {
        "id": "FYwbN6KqJjPo"
      },
      "source": [
        "## 1.2: Importing Libraries\n",
        "\n",
        "First of all, we will need to import some libraries. This includes surprise which we will use to create the recommendation system."
      ]
    },
    {
      "cell_type": "code",
      "metadata": {
        "id": "5OGYBAjxAzLC",
        "outputId": "6eebc930-7e4d-4e07-d577-fa8bf963e925",
        "colab": {
          "base_uri": "https://localhost:8080/",
          "height": 51
        }
      },
      "source": [
        "print('>> Importing Libraries')\n",
        "\n",
        "import pandas as pd\n",
        "\n",
        "from surprise import Reader, Dataset, SVD\n",
        "\n",
        "from surprise.accuracy import rmse, mae\n",
        "from surprise.model_selection import cross_validate\n",
        "\n",
        "print('>> Libraries imported.')"
      ],
      "execution_count": null,
      "outputs": [
        {
          "output_type": "stream",
          "text": [
            ">> Importing Libraries\n",
            ">> Libraries imported.\n"
          ],
          "name": "stdout"
        }
      ]
    },
    {
      "cell_type": "markdown",
      "metadata": {
        "id": "Zg9d8GR6A_rr"
      },
      "source": [
        "# Task 2: Importing Data\n",
        "\n",
        "We will use open-source dataset from GroupLens Research ([movielens.org](http://movielens.org))"
      ]
    },
    {
      "cell_type": "markdown",
      "metadata": {
        "id": "vS0k5tdWKSfZ"
      },
      "source": [
        "## 2.1: Importing the Data\n",
        "\n",
        "The dataset is saved in a `ratings.csv` file. We will use pandas to take a look at some of the rows."
      ]
    },
    {
      "cell_type": "code",
      "metadata": {
        "id": "3lbOmdPwKsPm",
        "outputId": "e65669c9-cb08-4c4e-a1af-36a232a31f37",
        "colab": {
          "base_uri": "https://localhost:8080/",
          "height": 204
        }
      },
      "source": [
        "df=pd.read_csv('/content/ratings.csv')\n",
        "df.head()"
      ],
      "execution_count": 25,
      "outputs": [
        {
          "output_type": "execute_result",
          "data": {
            "text/html": [
              "<div>\n",
              "<style scoped>\n",
              "    .dataframe tbody tr th:only-of-type {\n",
              "        vertical-align: middle;\n",
              "    }\n",
              "\n",
              "    .dataframe tbody tr th {\n",
              "        vertical-align: top;\n",
              "    }\n",
              "\n",
              "    .dataframe thead th {\n",
              "        text-align: right;\n",
              "    }\n",
              "</style>\n",
              "<table border=\"1\" class=\"dataframe\">\n",
              "  <thead>\n",
              "    <tr style=\"text-align: right;\">\n",
              "      <th></th>\n",
              "      <th>userId</th>\n",
              "      <th>movieId</th>\n",
              "      <th>rating</th>\n",
              "      <th>timestamp</th>\n",
              "    </tr>\n",
              "  </thead>\n",
              "  <tbody>\n",
              "    <tr>\n",
              "      <th>0</th>\n",
              "      <td>1</td>\n",
              "      <td>1</td>\n",
              "      <td>4.0</td>\n",
              "      <td>964982703</td>\n",
              "    </tr>\n",
              "    <tr>\n",
              "      <th>1</th>\n",
              "      <td>1</td>\n",
              "      <td>3</td>\n",
              "      <td>4.0</td>\n",
              "      <td>964981247</td>\n",
              "    </tr>\n",
              "    <tr>\n",
              "      <th>2</th>\n",
              "      <td>1</td>\n",
              "      <td>6</td>\n",
              "      <td>4.0</td>\n",
              "      <td>964982224</td>\n",
              "    </tr>\n",
              "    <tr>\n",
              "      <th>3</th>\n",
              "      <td>1</td>\n",
              "      <td>47</td>\n",
              "      <td>5.0</td>\n",
              "      <td>964983815</td>\n",
              "    </tr>\n",
              "    <tr>\n",
              "      <th>4</th>\n",
              "      <td>1</td>\n",
              "      <td>50</td>\n",
              "      <td>5.0</td>\n",
              "      <td>964982931</td>\n",
              "    </tr>\n",
              "  </tbody>\n",
              "</table>\n",
              "</div>"
            ],
            "text/plain": [
              "   userId  movieId  rating  timestamp\n",
              "0       1        1     4.0  964982703\n",
              "1       1        3     4.0  964981247\n",
              "2       1        6     4.0  964982224\n",
              "3       1       47     5.0  964983815\n",
              "4       1       50     5.0  964982931"
            ]
          },
          "metadata": {
            "tags": []
          },
          "execution_count": 25
        }
      ]
    },
    {
      "cell_type": "code",
      "metadata": {
        "id": "tG6TeC02CPfw",
        "outputId": "8357439e-1299-400d-ef5c-a39340f0b04b",
        "colab": {
          "base_uri": "https://localhost:8080/",
          "height": 34
        }
      },
      "source": [
        "df.shape"
      ],
      "execution_count": 26,
      "outputs": [
        {
          "output_type": "execute_result",
          "data": {
            "text/plain": [
              "(100836, 4)"
            ]
          },
          "metadata": {
            "tags": []
          },
          "execution_count": 26
        }
      ]
    },
    {
      "cell_type": "markdown",
      "metadata": {
        "id": "FQYVA-J5MCUG"
      },
      "source": [
        "# Task 3: EDA (Exploratory data analysis)\n",
        "\n",
        "In statistics, exploratory data analysis is an approach to analyzing data sets to summarize their main characteristics."
      ]
    },
    {
      "cell_type": "markdown",
      "metadata": {
        "id": "kcYDLtG5Ok_p"
      },
      "source": [
        "## 3.3 Ratings Distribution"
      ]
    },
    {
      "cell_type": "code",
      "metadata": {
        "id": "ZO7Mv-jdL4_z",
        "outputId": "6bf7c355-5fcc-4a34-9546-972f5a1f3825",
        "colab": {
          "base_uri": "https://localhost:8080/",
          "height": 288
        }
      },
      "source": [
        "df['rating'].value_counts().plot(kind='bar')"
      ],
      "execution_count": 27,
      "outputs": [
        {
          "output_type": "execute_result",
          "data": {
            "text/plain": [
              "<matplotlib.axes._subplots.AxesSubplot at 0x7fa83c871940>"
            ]
          },
          "metadata": {
            "tags": []
          },
          "execution_count": 27
        },
        {
          "output_type": "display_data",
          "data": {
            "image/png": "[encoded data removed]",
            "text/plain": [
              "<Figure size 432x288 with 1 Axes>"
            ]
          },
          "metadata": {
            "tags": [],
            "needs_background": "light"
          }
        }
      ]
    },
    {
      "cell_type": "markdown",
      "metadata": {
        "id": "xdLsIItxSd9K"
      },
      "source": [
        "# Task 4: Dimensionality Reduction\n",
        "\n",
        "To reduce the dimensionality of the dataset, we will filter out rarely rated movies and rarely rating users"
      ]
    },
    {
      "cell_type": "markdown",
      "metadata": {
        "id": "i3jYt3m5TNVL"
      },
      "source": [
        "## 4.1 Filter movies with less than 3 ratings"
      ]
    },
    {
      "cell_type": "code",
      "metadata": {
        "id": "msZU9YSxSeUo"
      },
      "source": [
        "filter_movies=df['movieId'].value_counts() > 3\n",
        "filter_movies=filter_movies[filter_movies].index.tolist()"
      ],
      "execution_count": 46,
      "outputs": []
    },
    {
      "cell_type": "markdown",
      "metadata": {
        "id": "IYaMxlXcTdGS"
      },
      "source": [
        "## 4.2 Filter users with less than 3 movies rated"
      ]
    },
    {
      "cell_type": "code",
      "metadata": {
        "id": "WPeNAggIS-Y_"
      },
      "source": [
        "filter_users=df['userId'].value_counts() > 3\n",
        "filter_users=filter_users[filter_users].index.tolist()"
      ],
      "execution_count": 47,
      "outputs": []
    },
    {
      "cell_type": "markdown",
      "metadata": {
        "id": "c2LFIAGXT3ro"
      },
      "source": [
        "## 4.3 Remove rarely rated movies and rarely rating users"
      ]
    },
    {
      "cell_type": "code",
      "metadata": {
        "id": "tTUG4ao6S_x7",
        "outputId": "4de4f0ae-564b-4b53-f8eb-a17ae37f023b",
        "colab": {
          "base_uri": "https://localhost:8080/",
          "height": 34
        }
      },
      "source": [
        "df=df[(df['movieId'].isin(filter_movies)) & (df['userId'].isin(filter_users))]\n",
        "df.shape"
      ],
      "execution_count": 48,
      "outputs": [
        {
          "output_type": "execute_result",
          "data": {
            "text/plain": [
              "(0, 4)"
            ]
          },
          "metadata": {
            "tags": []
          },
          "execution_count": 48
        }
      ]
    },
    {
      "cell_type": "markdown",
      "metadata": {
        "id": "TbviZWiPM3jQ"
      },
      "source": [
        "# Task 5: Create Training and Test Sets"
      ]
    },
    {
      "cell_type": "markdown",
      "metadata": {
        "id": "TIK2L0VuhbgA"
      },
      "source": [
        "## 5.1 Columns used for training"
      ]
    },
    {
      "cell_type": "code",
      "metadata": {
        "id": "bXF4dmJKhF7q"
      },
      "source": [
        ""
      ],
      "execution_count": null,
      "outputs": []
    },
    {
      "cell_type": "markdown",
      "metadata": {
        "id": "J8rylnJmUjYk"
      },
      "source": [
        "## 5.2 Create surprise dataset"
      ]
    },
    {
      "cell_type": "code",
      "metadata": {
        "id": "4UOTMUssM6Tw"
      },
      "source": [
        ""
      ],
      "execution_count": null,
      "outputs": []
    },
    {
      "cell_type": "markdown",
      "metadata": {
        "id": "8lM--CdvguDz"
      },
      "source": [
        "## 5.3 Create Train-set and Prediction-set"
      ]
    },
    {
      "cell_type": "code",
      "metadata": {
        "id": "heITVvtvU1FD"
      },
      "source": [
        ""
      ],
      "execution_count": null,
      "outputs": []
    },
    {
      "cell_type": "markdown",
      "metadata": {
        "id": "AYfhHDReuO5h"
      },
      "source": [
        "# Task 6: Creating and training the model"
      ]
    },
    {
      "cell_type": "markdown",
      "metadata": {
        "id": "R4e28tFHubv9"
      },
      "source": [
        "## 6.1 Creating the model\n",
        "\n",
        "**SVD (Singular Value Decomposition)**\n",
        "\n",
        "Interaction Matrix = A X B X C"
      ]
    },
    {
      "cell_type": "code",
      "metadata": {
        "id": "Ft4rS3L-hqeS"
      },
      "source": [
        ""
      ],
      "execution_count": null,
      "outputs": []
    },
    {
      "cell_type": "markdown",
      "metadata": {
        "id": "h_16sRpXwahF"
      },
      "source": [
        "## 6.2 Training the model\n",
        "\n",
        "**Mean Absolute Error (MAE)**: MAE measures the average magnitude of the errors in a set of predictions, without considering their direction. \n",
        "\n",
        "**Root mean squared error (RMSE)**:  RMSE is the square root of the average of squared differences between prediction and actual observation."
      ]
    },
    {
      "cell_type": "code",
      "metadata": {
        "id": "nh-E5DS5wYe_"
      },
      "source": [
        ""
      ],
      "execution_count": null,
      "outputs": []
    },
    {
      "cell_type": "markdown",
      "metadata": {
        "id": "zTnqbNt_xkKS"
      },
      "source": [
        "# Task 7: Predictions"
      ]
    },
    {
      "cell_type": "markdown",
      "metadata": {
        "id": "ma3oQr1Ax_Hg"
      },
      "source": [
        "## 7.1 Predict ratings for all pairs (user, items) that are NOT in the training set."
      ]
    },
    {
      "cell_type": "code",
      "metadata": {
        "id": "_K3EmIs3wxhW"
      },
      "source": [
        ""
      ],
      "execution_count": null,
      "outputs": []
    },
    {
      "cell_type": "code",
      "metadata": {
        "id": "RkqiEwM9z4Jf"
      },
      "source": [
        ""
      ],
      "execution_count": null,
      "outputs": []
    },
    {
      "cell_type": "markdown",
      "metadata": {
        "id": "lRmzGn63ze8b"
      },
      "source": [
        "## 7.2 Recommending top 3 movies movies based on predictions"
      ]
    },
    {
      "cell_type": "code",
      "metadata": {
        "id": "q3Ugauv0119g"
      },
      "source": [
        ""
      ],
      "execution_count": null,
      "outputs": []
    }
  ]
}