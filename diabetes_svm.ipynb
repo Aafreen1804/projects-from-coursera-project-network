{
  "nbformat": 4,
  "nbformat_minor": 0,
  "metadata": {
    "kernelspec": {
      "display_name": "Python 3",
      "language": "python",
      "name": "python3"
    },
    "language_info": {
      "codemirror_mode": {
        "name": "ipython",
        "version": 3
      },
      "file_extension": ".py",
      "mimetype": "text/x-python",
      "name": "python",
      "nbconvert_exporter": "python",
      "pygments_lexer": "ipython3",
      "version": "3.6.9"
    },
    "colab": {
      "name": "diabetes svm.ipynb",
      "provenance": []
    }
  },
  "cells": [
    {
      "cell_type": "markdown",
      "metadata": {
        "id": "VJW81kmvrCnh"
      },
      "source": [
        "# Medical Diagnosis with Support Vector Machines\n",
        "\n",
        "## Task 1: Import Libraries\n",
        "\n"
      ]
    },
    {
      "cell_type": "code",
      "metadata": {
        "id": "HqNNxDqJrCni"
      },
      "source": [
        "import numpy as np\n",
        "import pandas as pd\n",
        "from sklearn import svm\n",
        "from sklearn.preprocessing import StandardScaler\n",
        "from sklearn.model_selection import train_test_split\n",
        "from sklearn.metrics import accuracy_score, classification_report"
      ],
      "execution_count": 32,
      "outputs": []
    },
    {
      "cell_type": "markdown",
      "metadata": {
        "id": "jLp8QPNvrCno"
      },
      "source": [
        "## Task 1: Get Data"
      ]
    },
    {
      "cell_type": "code",
      "metadata": {
        "id": "REGuol1frCno",
        "outputId": "3b0ba713-8927-4a25-d81c-c2d178377ec0",
        "colab": {
          "base_uri": "https://localhost:8080/",
          "height": 221
        }
      },
      "source": [
        "column_names = [\"pregnancies\", \"glucose\", \"bpressure\", \"skinfold\", \"insulin\", \"bmi\", \"pedigree\", \"age\", \"class\"]\n",
        "df=pd.read_csv('/content/data.csv', names=column_names)\n",
        "print(df.shape)\n",
        "df.head()"
      ],
      "execution_count": 34,
      "outputs": [
        {
          "output_type": "stream",
          "text": [
            "(768, 9)\n"
          ],
          "name": "stdout"
        },
        {
          "output_type": "execute_result",
          "data": {
            "text/html": [
              "<div>\n",
              "<style scoped>\n",
              "    .dataframe tbody tr th:only-of-type {\n",
              "        vertical-align: middle;\n",
              "    }\n",
              "\n",
              "    .dataframe tbody tr th {\n",
              "        vertical-align: top;\n",
              "    }\n",
              "\n",
              "    .dataframe thead th {\n",
              "        text-align: right;\n",
              "    }\n",
              "</style>\n",
              "<table border=\"1\" class=\"dataframe\">\n",
              "  <thead>\n",
              "    <tr style=\"text-align: right;\">\n",
              "      <th></th>\n",
              "      <th>pregnancies</th>\n",
              "      <th>glucose</th>\n",
              "      <th>bpressure</th>\n",
              "      <th>skinfold</th>\n",
              "      <th>insulin</th>\n",
              "      <th>bmi</th>\n",
              "      <th>pedigree</th>\n",
              "      <th>age</th>\n",
              "      <th>class</th>\n",
              "    </tr>\n",
              "  </thead>\n",
              "  <tbody>\n",
              "    <tr>\n",
              "      <th>0</th>\n",
              "      <td>6</td>\n",
              "      <td>148</td>\n",
              "      <td>72</td>\n",
              "      <td>35</td>\n",
              "      <td>0</td>\n",
              "      <td>33.6</td>\n",
              "      <td>0.627</td>\n",
              "      <td>50</td>\n",
              "      <td>1</td>\n",
              "    </tr>\n",
              "    <tr>\n",
              "      <th>1</th>\n",
              "      <td>1</td>\n",
              "      <td>85</td>\n",
              "      <td>66</td>\n",
              "      <td>29</td>\n",
              "      <td>0</td>\n",
              "      <td>26.6</td>\n",
              "      <td>0.351</td>\n",
              "      <td>31</td>\n",
              "      <td>0</td>\n",
              "    </tr>\n",
              "    <tr>\n",
              "      <th>2</th>\n",
              "      <td>8</td>\n",
              "      <td>183</td>\n",
              "      <td>64</td>\n",
              "      <td>0</td>\n",
              "      <td>0</td>\n",
              "      <td>23.3</td>\n",
              "      <td>0.672</td>\n",
              "      <td>32</td>\n",
              "      <td>1</td>\n",
              "    </tr>\n",
              "    <tr>\n",
              "      <th>3</th>\n",
              "      <td>1</td>\n",
              "      <td>89</td>\n",
              "      <td>66</td>\n",
              "      <td>23</td>\n",
              "      <td>94</td>\n",
              "      <td>28.1</td>\n",
              "      <td>0.167</td>\n",
              "      <td>21</td>\n",
              "      <td>0</td>\n",
              "    </tr>\n",
              "    <tr>\n",
              "      <th>4</th>\n",
              "      <td>0</td>\n",
              "      <td>137</td>\n",
              "      <td>40</td>\n",
              "      <td>35</td>\n",
              "      <td>168</td>\n",
              "      <td>43.1</td>\n",
              "      <td>2.288</td>\n",
              "      <td>33</td>\n",
              "      <td>1</td>\n",
              "    </tr>\n",
              "  </tbody>\n",
              "</table>\n",
              "</div>"
            ],
            "text/plain": [
              "   pregnancies  glucose  bpressure  skinfold  ...   bmi  pedigree  age  class\n",
              "0            6      148         72        35  ...  33.6     0.627   50      1\n",
              "1            1       85         66        29  ...  26.6     0.351   31      0\n",
              "2            8      183         64         0  ...  23.3     0.672   32      1\n",
              "3            1       89         66        23  ...  28.1     0.167   21      0\n",
              "4            0      137         40        35  ...  43.1     2.288   33      1\n",
              "\n",
              "[5 rows x 9 columns]"
            ]
          },
          "metadata": {
            "tags": []
          },
          "execution_count": 34
        }
      ]
    },
    {
      "cell_type": "markdown",
      "metadata": {
        "id": "5VAA8_sFrCns"
      },
      "source": [
        "## Task 1: Extract Features"
      ]
    },
    {
      "cell_type": "code",
      "metadata": {
        "id": "50MTmPtJrCns",
        "outputId": "2abb37ea-017c-4196-f236-5fd36ac3f8a6",
        "colab": {
          "base_uri": "https://localhost:8080/",
          "height": 204
        }
      },
      "source": [
        "x=df.iloc[:,:8]\n",
        "x.head()"
      ],
      "execution_count": 35,
      "outputs": [
        {
          "output_type": "execute_result",
          "data": {
            "text/html": [
              "<div>\n",
              "<style scoped>\n",
              "    .dataframe tbody tr th:only-of-type {\n",
              "        vertical-align: middle;\n",
              "    }\n",
              "\n",
              "    .dataframe tbody tr th {\n",
              "        vertical-align: top;\n",
              "    }\n",
              "\n",
              "    .dataframe thead th {\n",
              "        text-align: right;\n",
              "    }\n",
              "</style>\n",
              "<table border=\"1\" class=\"dataframe\">\n",
              "  <thead>\n",
              "    <tr style=\"text-align: right;\">\n",
              "      <th></th>\n",
              "      <th>pregnancies</th>\n",
              "      <th>glucose</th>\n",
              "      <th>bpressure</th>\n",
              "      <th>skinfold</th>\n",
              "      <th>insulin</th>\n",
              "      <th>bmi</th>\n",
              "      <th>pedigree</th>\n",
              "      <th>age</th>\n",
              "    </tr>\n",
              "  </thead>\n",
              "  <tbody>\n",
              "    <tr>\n",
              "      <th>0</th>\n",
              "      <td>6</td>\n",
              "      <td>148</td>\n",
              "      <td>72</td>\n",
              "      <td>35</td>\n",
              "      <td>0</td>\n",
              "      <td>33.6</td>\n",
              "      <td>0.627</td>\n",
              "      <td>50</td>\n",
              "    </tr>\n",
              "    <tr>\n",
              "      <th>1</th>\n",
              "      <td>1</td>\n",
              "      <td>85</td>\n",
              "      <td>66</td>\n",
              "      <td>29</td>\n",
              "      <td>0</td>\n",
              "      <td>26.6</td>\n",
              "      <td>0.351</td>\n",
              "      <td>31</td>\n",
              "    </tr>\n",
              "    <tr>\n",
              "      <th>2</th>\n",
              "      <td>8</td>\n",
              "      <td>183</td>\n",
              "      <td>64</td>\n",
              "      <td>0</td>\n",
              "      <td>0</td>\n",
              "      <td>23.3</td>\n",
              "      <td>0.672</td>\n",
              "      <td>32</td>\n",
              "    </tr>\n",
              "    <tr>\n",
              "      <th>3</th>\n",
              "      <td>1</td>\n",
              "      <td>89</td>\n",
              "      <td>66</td>\n",
              "      <td>23</td>\n",
              "      <td>94</td>\n",
              "      <td>28.1</td>\n",
              "      <td>0.167</td>\n",
              "      <td>21</td>\n",
              "    </tr>\n",
              "    <tr>\n",
              "      <th>4</th>\n",
              "      <td>0</td>\n",
              "      <td>137</td>\n",
              "      <td>40</td>\n",
              "      <td>35</td>\n",
              "      <td>168</td>\n",
              "      <td>43.1</td>\n",
              "      <td>2.288</td>\n",
              "      <td>33</td>\n",
              "    </tr>\n",
              "  </tbody>\n",
              "</table>\n",
              "</div>"
            ],
            "text/plain": [
              "   pregnancies  glucose  bpressure  skinfold  insulin   bmi  pedigree  age\n",
              "0            6      148         72        35        0  33.6     0.627   50\n",
              "1            1       85         66        29        0  26.6     0.351   31\n",
              "2            8      183         64         0        0  23.3     0.672   32\n",
              "3            1       89         66        23       94  28.1     0.167   21\n",
              "4            0      137         40        35      168  43.1     2.288   33"
            ]
          },
          "metadata": {
            "tags": []
          },
          "execution_count": 35
        }
      ]
    },
    {
      "cell_type": "markdown",
      "metadata": {
        "id": "0xLmBJOorCnv"
      },
      "source": [
        "## Task 1: Extract Class Labels"
      ]
    },
    {
      "cell_type": "code",
      "metadata": {
        "id": "zFTz51K6rCnw",
        "outputId": "33a37f69-1137-419d-afa9-829f5d8bb7d4",
        "colab": {
          "base_uri": "https://localhost:8080/",
          "height": 119
        }
      },
      "source": [
        "y=df['class']\n",
        "y.head()"
      ],
      "execution_count": 36,
      "outputs": [
        {
          "output_type": "execute_result",
          "data": {
            "text/plain": [
              "0    1\n",
              "1    0\n",
              "2    1\n",
              "3    0\n",
              "4    1\n",
              "Name: class, dtype: int64"
            ]
          },
          "metadata": {
            "tags": []
          },
          "execution_count": 36
        }
      ]
    },
    {
      "cell_type": "markdown",
      "metadata": {
        "id": "wC2q_QwtrCnz"
      },
      "source": [
        "## Task 2: Split Dataset"
      ]
    },
    {
      "cell_type": "code",
      "metadata": {
        "scrolled": true,
        "id": "1AGwc86OrCnz"
      },
      "source": [
        "X_train,X_test,y_train, y_test=train_test_split(x,y,test_size=0.25,random_state=0)"
      ],
      "execution_count": 37,
      "outputs": []
    },
    {
      "cell_type": "markdown",
      "metadata": {
        "id": "ni9jkk2xrCn2"
      },
      "source": [
        "## Task 2: Normalize Features"
      ]
    },
    {
      "cell_type": "code",
      "metadata": {
        "id": "eFAXSOyMrCn2"
      },
      "source": [
        "scaler=StandardScaler()\n",
        "scaler.fit(X_train)\n",
        "X_train=scaler.transform(X_train)"
      ],
      "execution_count": 38,
      "outputs": []
    },
    {
      "cell_type": "markdown",
      "metadata": {
        "id": "fKXLSErLrCn5"
      },
      "source": [
        "## Task 3: Training a Support Vector Machine"
      ]
    },
    {
      "cell_type": "code",
      "metadata": {
        "id": "zMh0zaLxrCn6",
        "outputId": "11679774-cacf-4e12-8d69-1742276114d4",
        "colab": {
          "base_uri": "https://localhost:8080/",
          "height": 85
        }
      },
      "source": [
        "clf=svm.SVC(kernel='sigmoid')\n",
        "clf.fit(X_train,y_train)"
      ],
      "execution_count": 40,
      "outputs": [
        {
          "output_type": "execute_result",
          "data": {
            "text/plain": [
              "SVC(C=1.0, break_ties=False, cache_size=200, class_weight=None, coef0=0.0,\n",
              "    decision_function_shape='ovr', degree=3, gamma='scale', kernel='sigmoid',\n",
              "    max_iter=-1, probability=False, random_state=None, shrinking=True,\n",
              "    tol=0.001, verbose=False)"
            ]
          },
          "metadata": {
            "tags": []
          },
          "execution_count": 40
        }
      ]
    },
    {
      "cell_type": "markdown",
      "metadata": {
        "id": "C3io-Bt_woVe"
      },
      "source": [
        "so svm basically makes a decision boundary with which to divide the two status by taking into consideration all the features"
      ]
    },
    {
      "cell_type": "markdown",
      "metadata": {
        "id": "IMHgUoYNrCn8"
      },
      "source": [
        "## Task 3: Decision Boundary"
      ]
    },
    {
      "cell_type": "code",
      "metadata": {
        "id": "Q5SoI9sLrCn9",
        "outputId": "cea45993-f7b1-4e4d-8a8a-8944873ac5cf",
        "colab": {
          "base_uri": "https://localhost:8080/",
          "height": 34
        }
      },
      "source": [
        "y_pred=clf.predict(X_train)\n",
        "print(accuracy_score(y_train, y_pred))"
      ],
      "execution_count": 41,
      "outputs": [
        {
          "output_type": "stream",
          "text": [
            "0.6510416666666666\n"
          ],
          "name": "stdout"
        }
      ]
    },
    {
      "cell_type": "markdown",
      "metadata": {
        "id": "RyDrITFxxLy8"
      },
      "source": [
        "the accuracy is low \n",
        "- One reason which comes to mind is that the data provided is insufficient to make the prediction\n",
        "- or perhaps the model could be improved"
      ]
    },
    {
      "cell_type": "markdown",
      "metadata": {
        "id": "3nipzj8IrCn_"
      },
      "source": [
        "## Task 3: SVM Kernels"
      ]
    },
    {
      "cell_type": "code",
      "metadata": {
        "id": "r3j-IrLprCn_",
        "outputId": "73fd07f5-065a-42ab-9001-d030812a33d9",
        "colab": {
          "base_uri": "https://localhost:8080/",
          "height": 153
        }
      },
      "source": [
        "#hyper parameter optimization\n",
        "for k in ('linear','poly','rbf','sigmoid'):\n",
        "  clf=svm.SVC(kernel=k)\n",
        "  clf.fit(X_train,y_train)\n",
        "  y_pred=clf.predict(X_train)\n",
        "  print(k)\n",
        "  print(accuracy_score(y_train,y_pred))"
      ],
      "execution_count": 42,
      "outputs": [
        {
          "output_type": "stream",
          "text": [
            "linear\n",
            "0.7638888888888888\n",
            "poly\n",
            "0.7934027777777778\n",
            "rbf\n",
            "0.8246527777777778\n",
            "sigmoid\n",
            "0.6510416666666666\n"
          ],
          "name": "stdout"
        }
      ]
    },
    {
      "cell_type": "markdown",
      "metadata": {
        "id": "m0VR9RGorCoC"
      },
      "source": [
        "## Task 4: Instantiating the Best Model"
      ]
    },
    {
      "cell_type": "code",
      "metadata": {
        "id": "G_8AlCEsrCoC",
        "outputId": "d9c66fdb-f873-4d50-f772-21849ced2d15",
        "colab": {
          "base_uri": "https://localhost:8080/",
          "height": 85
        }
      },
      "source": [
        "clf=svm.SVC(kernel='rbf')\n",
        "clf.fit(X_train,y_train)"
      ],
      "execution_count": 43,
      "outputs": [
        {
          "output_type": "execute_result",
          "data": {
            "text/plain": [
              "SVC(C=1.0, break_ties=False, cache_size=200, class_weight=None, coef0=0.0,\n",
              "    decision_function_shape='ovr', degree=3, gamma='scale', kernel='rbf',\n",
              "    max_iter=-1, probability=False, random_state=None, shrinking=True,\n",
              "    tol=0.001, verbose=False)"
            ]
          },
          "metadata": {
            "tags": []
          },
          "execution_count": 43
        }
      ]
    },
    {
      "cell_type": "markdown",
      "metadata": {
        "id": "SVVM1_DbrCoG"
      },
      "source": [
        "## Task 4: Making a single prediction"
      ]
    },
    {
      "cell_type": "code",
      "metadata": {
        "id": "GAQDif2srCoG",
        "outputId": "2a213b56-aec5-4314-a621-900b35926b22",
        "colab": {
          "base_uri": "https://localhost:8080/",
          "height": 34
        }
      },
      "source": [
        "# \"pregnancies\", \"glucose\", \"bpressure\", \n",
        "# \"skinfold\", \"insulin\", \"bmi\", \n",
        "# \"pedigree\", \"age\", \"class\"\n",
        "new_patient=np.array([[0., 100.,75.,40.,0.,45.,1.5,20]])\n",
        "new_patient=scaler.transform(new_patient)\n",
        "clf.predict(new_patient)"
      ],
      "execution_count": 44,
      "outputs": [
        {
          "output_type": "execute_result",
          "data": {
            "text/plain": [
              "array([0])"
            ]
          },
          "metadata": {
            "tags": []
          },
          "execution_count": 44
        }
      ]
    },
    {
      "cell_type": "markdown",
      "metadata": {
        "id": "b7HZ7tIJrCoJ"
      },
      "source": [
        "## Task 4: Testing Set Prediction"
      ]
    },
    {
      "cell_type": "code",
      "metadata": {
        "id": "5kKdhOrrrCoJ",
        "outputId": "47f865ac-16c1-4847-b3a0-dcc478a5280c",
        "colab": {
          "base_uri": "https://localhost:8080/",
          "height": 51
        }
      },
      "source": [
        "new_patient=np.array([X_test.iloc[8] ])\n",
        "new_patient=scaler.transform(new_patient)\n",
        "print(clf.predict(new_patient))\n",
        "print(y_test.iloc[8] )"
      ],
      "execution_count": 45,
      "outputs": [
        {
          "output_type": "stream",
          "text": [
            "[1]\n",
            "0\n"
          ],
          "name": "stdout"
        }
      ]
    },
    {
      "cell_type": "markdown",
      "metadata": {
        "id": "3EA_WI7MrCoL"
      },
      "source": [
        "## Task 5: Accuracy on Testing Set"
      ]
    },
    {
      "cell_type": "code",
      "metadata": {
        "id": "2JCav0zTrCoM",
        "outputId": "1b707b2c-1100-4edb-bbf0-9ab53b6847d4",
        "colab": {
          "base_uri": "https://localhost:8080/",
          "height": 34
        }
      },
      "source": [
        "X_test=scaler.transform(X_test)\n",
        "y_pred=clf.predict(X_test)\n",
        "print(accuracy_score(y_test, y_pred))#which is not similar to the training accuracy of 83 as the model?? coz model hasent seen the test set maybe ??"
      ],
      "execution_count": 48,
      "outputs": [
        {
          "output_type": "stream",
          "text": [
            "0.6770833333333334\n"
          ],
          "name": "stdout"
        }
      ]
    },
    {
      "cell_type": "markdown",
      "metadata": {
        "id": "Pd0rJDXJrCoO"
      },
      "source": [
        "## Task 5: Comparison to All-Zero Prediction"
      ]
    },
    {
      "cell_type": "code",
      "metadata": {
        "id": "yZdiNCo1rCoO",
        "outputId": "96d480af-ee96-406c-baec-b19b50911e85",
        "colab": {
          "base_uri": "https://localhost:8080/",
          "height": 34
        }
      },
      "source": [
        "y_zero=np.zeros(y_test.shape)\n",
        "print(accuracy_score(y_test,y_zero))"
      ],
      "execution_count": 49,
      "outputs": [
        {
          "output_type": "stream",
          "text": [
            "0.6770833333333334\n"
          ],
          "name": "stdout"
        }
      ]
    },
    {
      "cell_type": "markdown",
      "metadata": {
        "id": "OFQTBYkA2Nha"
      },
      "source": [
        "- so the data is imbalanced as there are more number of patients with no diabities\n",
        "- in such cases we can look for various ther performance factors\n"
      ]
    },
    {
      "cell_type": "markdown",
      "metadata": {
        "id": "23TnIZ6krCoR"
      },
      "source": [
        "## Task 5: Precision and Recall"
      ]
    },
    {
      "cell_type": "code",
      "metadata": {
        "id": "hYKuadgDrCoR",
        "outputId": "f7d78943-ffef-45e5-f660-582dea07b41c",
        "colab": {
          "base_uri": "https://localhost:8080/",
          "height": 224
        }
      },
      "source": [
        "print(classification_report(y_test, y_pred))\n",
        "#status 1 classification reports are all 0's :(\n",
        "#some buggy code somewhere"
      ],
      "execution_count": 51,
      "outputs": [
        {
          "output_type": "stream",
          "text": [
            "              precision    recall  f1-score   support\n",
            "\n",
            "           0       0.68      1.00      0.81       130\n",
            "           1       0.00      0.00      0.00        62\n",
            "\n",
            "    accuracy                           0.68       192\n",
            "   macro avg       0.34      0.50      0.40       192\n",
            "weighted avg       0.46      0.68      0.55       192\n",
            "\n"
          ],
          "name": "stdout"
        },
        {
          "output_type": "stream",
          "text": [
            "/usr/local/lib/python3.6/dist-packages/sklearn/metrics/_classification.py:1272: UndefinedMetricWarning: Precision and F-score are ill-defined and being set to 0.0 in labels with no predicted samples. Use `zero_division` parameter to control this behavior.\n",
            "  _warn_prf(average, modifier, msg_start, len(result))\n"
          ],
          "name": "stderr"
        }
      ]
    },
    {
      "cell_type": "code",
      "metadata": {
        "id": "LXjgAqgjrCoV"
      },
      "source": [
        ""
      ],
      "execution_count": null,
      "outputs": []
    }
  ]
}