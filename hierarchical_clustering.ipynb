{
  "nbformat": 4,
  "nbformat_minor": 0,
  "metadata": {
    "colab": {
      "name": "hierarchical clustering.ipynb",
      "provenance": []
    },
    "kernelspec": {
      "name": "python3",
      "display_name": "Python 3"
    }
  },
  "cells": [
    {
      "cell_type": "markdown",
      "metadata": {
        "id": "6CwDUEL8-E4O"
      },
      "source": [
        "## **Hierarchical Clustering Project in Python**"
      ]
    },
    {
      "cell_type": "markdown",
      "metadata": {
        "id": "uCUKyaNkoXVc"
      },
      "source": [
        "Project Structure:\n",
        "- Task 1: Introduction – Defining the goal of our project.\n",
        "- Task 2: Importing the dataset and needed libraries.\n",
        "- Task 3: Choosing the number of Clusters.\n",
        "- Task 4: Fitting the model and making Predictions.\n",
        "- Task 5: Visualizing the clusters.\n",
        "\n"
      ]
    },
    {
      "cell_type": "code",
      "metadata": {
        "id": "GOKBuzac9ZNW"
      },
      "source": [
        "# Importing the needed libraries\n",
        "import numpy as np #for scientific computing\n",
        "import matplotlib.pyplot as plt #for visualization\n",
        "import pandas as pd #for data analysis"
      ],
      "execution_count": 8,
      "outputs": []
    },
    {
      "cell_type": "code",
      "metadata": {
        "id": "BtWdnLo4-TjI",
        "outputId": "1d16d832-08d0-4330-ee64-2cc26852952f",
        "colab": {
          "base_uri": "https://localhost:8080/",
          "height": 204
        }
      },
      "source": [
        "# Importing the dataset\n",
        "dataset = pd.read_csv('/content/Customers.csv')\n",
        "dataset.head()"
      ],
      "execution_count": 9,
      "outputs": [
        {
          "output_type": "execute_result",
          "data": {
            "text/html": [
              "<div>\n",
              "<style scoped>\n",
              "    .dataframe tbody tr th:only-of-type {\n",
              "        vertical-align: middle;\n",
              "    }\n",
              "\n",
              "    .dataframe tbody tr th {\n",
              "        vertical-align: top;\n",
              "    }\n",
              "\n",
              "    .dataframe thead th {\n",
              "        text-align: right;\n",
              "    }\n",
              "</style>\n",
              "<table border=\"1\" class=\"dataframe\">\n",
              "  <thead>\n",
              "    <tr style=\"text-align: right;\">\n",
              "      <th></th>\n",
              "      <th>CustomerID</th>\n",
              "      <th>Gender</th>\n",
              "      <th>Age</th>\n",
              "      <th>AnnualSalary(k$)</th>\n",
              "      <th>Spendings(1-100)</th>\n",
              "    </tr>\n",
              "  </thead>\n",
              "  <tbody>\n",
              "    <tr>\n",
              "      <th>0</th>\n",
              "      <td>157</td>\n",
              "      <td>Male</td>\n",
              "      <td>37</td>\n",
              "      <td>78</td>\n",
              "      <td>1</td>\n",
              "    </tr>\n",
              "    <tr>\n",
              "      <th>1</th>\n",
              "      <td>159</td>\n",
              "      <td>Male</td>\n",
              "      <td>34</td>\n",
              "      <td>78</td>\n",
              "      <td>1</td>\n",
              "    </tr>\n",
              "    <tr>\n",
              "      <th>2</th>\n",
              "      <td>201</td>\n",
              "      <td>Female</td>\n",
              "      <td>19</td>\n",
              "      <td>137</td>\n",
              "      <td>1</td>\n",
              "    </tr>\n",
              "    <tr>\n",
              "      <th>3</th>\n",
              "      <td>9</td>\n",
              "      <td>Male</td>\n",
              "      <td>64</td>\n",
              "      <td>19</td>\n",
              "      <td>3</td>\n",
              "    </tr>\n",
              "    <tr>\n",
              "      <th>4</th>\n",
              "      <td>202</td>\n",
              "      <td>Female</td>\n",
              "      <td>19</td>\n",
              "      <td>137</td>\n",
              "      <td>3</td>\n",
              "    </tr>\n",
              "  </tbody>\n",
              "</table>\n",
              "</div>"
            ],
            "text/plain": [
              "   CustomerID  Gender  Age  AnnualSalary(k$)  Spendings(1-100)\n",
              "0         157    Male   37                78                 1\n",
              "1         159    Male   34                78                 1\n",
              "2         201  Female   19               137                 1\n",
              "3           9    Male   64                19                 3\n",
              "4         202  Female   19               137                 3"
            ]
          },
          "metadata": {
            "tags": []
          },
          "execution_count": 9
        }
      ]
    },
    {
      "cell_type": "code",
      "metadata": {
        "id": "hPwCRf_IF_WL",
        "outputId": "edd5553e-c30a-488b-82ea-1508ab2edbb3",
        "colab": {
          "base_uri": "https://localhost:8080/",
          "height": 1000
        }
      },
      "source": [
        "# we need only the AnnualSalary(k$) and Spendings(1-100) to form clustering\n",
        "X = dataset.iloc[:, [3, 4]].values\n",
        "X"
      ],
      "execution_count": 10,
      "outputs": [
        {
          "output_type": "execute_result",
          "data": {
            "text/plain": [
              "array([[ 78,   1],\n",
              "       [ 78,   1],\n",
              "       [137,   1],\n",
              "       [ 19,   3],\n",
              "       [137,   3],\n",
              "       [ 30,   4],\n",
              "       [ 33,   4],\n",
              "       [137,   4],\n",
              "       [ 25,   5],\n",
              "       [ 73,   5],\n",
              "       [ 75,   5],\n",
              "       [ 81,   5],\n",
              "       [101,   5],\n",
              "       [ 16,   6],\n",
              "       [ 18,   6],\n",
              "       [103,   6],\n",
              "       [ 73,   7],\n",
              "       [113,   7],\n",
              "       [113,   8],\n",
              "       [ 98,   8],\n",
              "       [ 71,   9],\n",
              "       [ 97,   9],\n",
              "       [ 74,  10],\n",
              "       [ 87,  10],\n",
              "       [ 81,  10],\n",
              "       [ 71,  11],\n",
              "       [ 77,  12],\n",
              "       [ 20,  13],\n",
              "       [ 87,  13],\n",
              "       [ 88,  13],\n",
              "       [ 81,  13],\n",
              "       [ 19,  14],\n",
              "       [ 28,  14],\n",
              "       [ 33,  14],\n",
              "       [ 93,  14],\n",
              "       [ 85,  14],\n",
              "       [ 20,  15],\n",
              "       [ 88,  15],\n",
              "       [ 98,  15],\n",
              "       [ 85,  15],\n",
              "       [ 78,  16],\n",
              "       [120,  16],\n",
              "       [ 86,  16],\n",
              "       [ 34,  17],\n",
              "       [ 78,  17],\n",
              "       [103,  17],\n",
              "       [ 86,  17],\n",
              "       [137,  18],\n",
              "       [ 78,  20],\n",
              "       [ 86,  20],\n",
              "       [ 78,  20],\n",
              "       [ 78,  22],\n",
              "       [103,  23],\n",
              "       [101,  24],\n",
              "       [ 37,  26],\n",
              "       [ 85,  26],\n",
              "       [ 87,  27],\n",
              "       [ 78,  27],\n",
              "       [ 39,  28],\n",
              "       [126,  28],\n",
              "       [ 23,  29],\n",
              "       [ 70,  29],\n",
              "       [ 29,  31],\n",
              "       [ 28,  32],\n",
              "       [ 97,  32],\n",
              "       [ 72,  34],\n",
              "       [ 79,  34],\n",
              "       [ 21,  35],\n",
              "       [ 24,  35],\n",
              "       [ 38,  35],\n",
              "       [ 71,  35],\n",
              "       [ 79,  35],\n",
              "       [ 79,  35],\n",
              "       [ 39,  36],\n",
              "       [ 77,  36],\n",
              "       [ 15,  39],\n",
              "       [ 99,  39],\n",
              "       [ 17,  40],\n",
              "       [ 60,  40],\n",
              "       [ 67,  40],\n",
              "       [ 76,  40],\n",
              "       [ 15,  40],\n",
              "       [ 43,  41],\n",
              "       [ 54,  41],\n",
              "       [ 59,  41],\n",
              "       [ 62,  41],\n",
              "       [ 40,  42],\n",
              "       [ 40,  42],\n",
              "       [ 49,  42],\n",
              "       [ 54,  42],\n",
              "       [ 60,  42],\n",
              "       [ 61,  42],\n",
              "       [ 62,  42],\n",
              "       [ 64,  42],\n",
              "       [ 16,  42],\n",
              "       [ 63,  43],\n",
              "       [ 65,  43],\n",
              "       [ 67,  43],\n",
              "       [ 17,  43],\n",
              "       [ 54,  44],\n",
              "       [ 18,  44],\n",
              "       [ 43,  45],\n",
              "       [ 19,  45],\n",
              "       [ 44,  46],\n",
              "       [ 46,  46],\n",
              "       [ 54,  46],\n",
              "       [ 58,  46],\n",
              "       [ 63,  46],\n",
              "       [ 64,  46],\n",
              "       [ 40,  47],\n",
              "       [ 48,  47],\n",
              "       [ 54,  47],\n",
              "       [ 60,  47],\n",
              "       [ 48,  48],\n",
              "       [ 54,  48],\n",
              "       [ 62,  48],\n",
              "       [ 63,  48],\n",
              "       [ 65,  48],\n",
              "       [ 50,  49],\n",
              "       [ 60,  49],\n",
              "       [ 61,  49],\n",
              "       [ 44,  50],\n",
              "       [ 48,  50],\n",
              "       [ 60,  50],\n",
              "       [ 63,  50],\n",
              "       [ 65,  50],\n",
              "       [ 46,  51],\n",
              "       [ 48,  51],\n",
              "       [ 54,  51],\n",
              "       [ 42,  52],\n",
              "       [ 47,  52],\n",
              "       [ 54,  52],\n",
              "       [ 60,  52],\n",
              "       [ 63,  52],\n",
              "       [ 15,  52],\n",
              "       [ 54,  53],\n",
              "       [ 16,  53],\n",
              "       [ 43,  54],\n",
              "       [ 54,  54],\n",
              "       [ 63,  54],\n",
              "       [ 40,  55],\n",
              "       [ 46,  55],\n",
              "       [ 49,  55],\n",
              "       [ 54,  55],\n",
              "       [ 57,  55],\n",
              "       [ 59,  55],\n",
              "       [ 62,  55],\n",
              "       [ 46,  56],\n",
              "       [ 50,  56],\n",
              "       [ 62,  56],\n",
              "       [ 67,  56],\n",
              "       [ 54,  57],\n",
              "       [ 67,  57],\n",
              "       [ 57,  58],\n",
              "       [ 69,  58],\n",
              "       [ 47,  59],\n",
              "       [ 48,  59],\n",
              "       [ 48,  59],\n",
              "       [ 62,  59],\n",
              "       [ 65,  59],\n",
              "       [ 17,  59],\n",
              "       [ 42,  60],\n",
              "       [ 43,  60],\n",
              "       [ 58,  60],\n",
              "       [ 20,  60],\n",
              "       [ 28,  61],\n",
              "       [ 39,  61],\n",
              "       [ 20,  61],\n",
              "       [ 87,  63],\n",
              "       [ 20,  63],\n",
              "       [ 39,  65],\n",
              "       [ 30,  65],\n",
              "       [ 21,  66],\n",
              "       [ 30,  66],\n",
              "       [101,  68],\n",
              "       [ 37,  68],\n",
              "       [ 88,  69],\n",
              "       [103,  69],\n",
              "       [ 72,  71],\n",
              "       [ 38,  71],\n",
              "       [ 19,  72],\n",
              "       [ 74,  72],\n",
              "       [ 43,  72],\n",
              "       [ 24,  73],\n",
              "       [ 25,  73],\n",
              "       [ 30,  73],\n",
              "       [ 34,  73],\n",
              "       [ 73,  73],\n",
              "       [ 78,  73],\n",
              "       [ 43,  73],\n",
              "       [ 77,  74],\n",
              "       [126,  74],\n",
              "       [ 47,  74],\n",
              "       [ 37,  75],\n",
              "       [ 71,  75],\n",
              "       [ 71,  75],\n",
              "       [ 85,  75],\n",
              "       [ 87,  75],\n",
              "       [ 47,  75],\n",
              "       [ 17,  76],\n",
              "       [ 78,  76],\n",
              "       [ 48,  76],\n",
              "       [ 16,  77],\n",
              "       [ 20,  77],\n",
              "       [ 70,  77],\n",
              "       [ 48,  77],\n",
              "       [ 78,  78],\n",
              "       [ 20,  79],\n",
              "       [120,  79],\n",
              "       [ 15,  81],\n",
              "       [ 33,  81],\n",
              "       [ 28,  82],\n",
              "       [ 79,  83],\n",
              "       [137,  83],\n",
              "       [ 57,  83],\n",
              "       [103,  85],\n",
              "       [ 57,  85],\n",
              "       [ 88,  86],\n",
              "       [ 97,  86],\n",
              "       [ 58,  86],\n",
              "       [ 29,  87],\n",
              "       [ 76,  87],\n",
              "       [ 58,  87],\n",
              "       [ 73,  88],\n",
              "       [ 78,  88],\n",
              "       [ 98,  88],\n",
              "       [ 78,  89],\n",
              "       [ 78,  90],\n",
              "       [ 93,  90],\n",
              "       [ 62,  90],\n",
              "       [ 97,  90],\n",
              "       [ 69,  91],\n",
              "       [113,  91],\n",
              "       [ 33,  92],\n",
              "       [ 38,  92],\n",
              "       [ 87,  92],\n",
              "       [ 75,  93],\n",
              "       [ 81,  93],\n",
              "       [ 18,  94],\n",
              "       [ 62,  94],\n",
              "       [ 71,  95],\n",
              "       [ 86,  95],\n",
              "       [ 99,  95],\n",
              "       [ 77,  97],\n",
              "       [ 99,  97],\n",
              "       [101,  97],\n",
              "       [ 23,  98],\n",
              "       [103,  98],\n",
              "       [ 19,  99],\n",
              "       [ 97,  99]])"
            ]
          },
          "metadata": {
            "tags": []
          },
          "execution_count": 10
        }
      ]
    },
    {
      "cell_type": "code",
      "metadata": {
        "id": "nmxEkz-6G1j0",
        "outputId": "54ef577d-40ca-43d4-8aa2-126937353100",
        "colab": {
          "base_uri": "https://localhost:8080/",
          "height": 295
        }
      },
      "source": [
        "# Using the dendrogram to find optimal number of clusters\n",
        "#A dendrogram is a diagram that shows the hierarchical relationship between objects\n",
        "import scipy.cluster.hierarchy as sch\n",
        "dendrogram = sch.dendrogram(sch.linkage(X, method = 'ward'))\n",
        "#ward is to minimize the variance of each cluster\n",
        "plt.title('Dendrogram')\n",
        "plt.xlabel('Customers')\n",
        "plt.ylabel('Euclidean distances')\n",
        "plt.show()"
      ],
      "execution_count": 11,
      "outputs": [
        {
          "output_type": "display_data",
          "data": {
            "image/png": "[encoded data removed]",
            "text/plain": [
              "<Figure size 432x288 with 1 Axes>"
            ]
          },
          "metadata": {
            "tags": [],
            "needs_background": "light"
          }
        }
      ]
    },
    {
      "cell_type": "markdown",
      "metadata": {
        "id": "YMMzsUy-JF45"
      },
      "source": [
        "- since graph shows three different coloured clusters , so k=3\n",
        "- you can also chekc for longest verticla lines for identifying the same"
      ]
    },
    {
      "cell_type": "code",
      "metadata": {
        "id": "svZgYb4VIDAq",
        "outputId": "8ab8309b-605c-4764-b27f-5182da54ca61",
        "colab": {
          "base_uri": "https://localhost:8080/",
          "height": 221
        }
      },
      "source": [
        "# Fitting Hierarchical Clustering to our Data\n",
        "from sklearn.cluster import AgglomerativeClustering\n",
        "hc = AgglomerativeClustering(n_clusters = 3, affinity = 'euclidean', linkage = 'ward')\n",
        "y_hc = hc.fit_predict(X)\n",
        "y_hc"
      ],
      "execution_count": 13,
      "outputs": [
        {
          "output_type": "execute_result",
          "data": {
            "text/plain": [
              "array([1, 1, 1, 0, 1, 0, 0, 1, 0, 1, 1, 1, 1, 0, 0, 1, 1, 1, 1, 1, 1, 1,\n",
              "       1, 1, 1, 1, 1, 0, 1, 1, 1, 0, 0, 0, 1, 1, 0, 1, 1, 1, 1, 1, 1, 0,\n",
              "       1, 1, 1, 1, 1, 1, 1, 1, 1, 1, 0, 1, 1, 1, 0, 1, 0, 1, 0, 0, 1, 1,\n",
              "       1, 0, 0, 0, 1, 1, 1, 0, 1, 0, 1, 0, 0, 0, 1, 0, 0, 0, 0, 0, 0, 0,\n",
              "       0, 0, 0, 0, 0, 0, 0, 0, 0, 0, 0, 0, 0, 0, 0, 0, 0, 0, 0, 0, 0, 0,\n",
              "       0, 0, 0, 0, 0, 0, 0, 0, 0, 0, 0, 0, 0, 0, 0, 0, 0, 0, 0, 0, 0, 0,\n",
              "       0, 0, 0, 0, 0, 0, 0, 0, 0, 0, 0, 0, 0, 0, 0, 0, 0, 0, 0, 0, 0, 0,\n",
              "       0, 0, 0, 0, 0, 0, 0, 0, 0, 0, 0, 0, 0, 0, 2, 0, 0, 0, 0, 0, 2, 0,\n",
              "       2, 2, 2, 0, 0, 2, 0, 0, 0, 0, 0, 2, 2, 0, 2, 2, 0, 0, 2, 2, 2, 2,\n",
              "       0, 0, 2, 0, 0, 0, 2, 0, 2, 0, 2, 0, 0, 0, 2, 2, 2, 2, 2, 2, 2, 2,\n",
              "       0, 2, 2, 2, 2, 2, 2, 2, 2, 2, 2, 2, 2, 0, 0, 2, 2, 2, 0, 2, 2, 2,\n",
              "       2, 2, 2, 2, 0, 2, 0, 2])"
            ]
          },
          "metadata": {
            "tags": []
          },
          "execution_count": 13
        }
      ]
    },
    {
      "cell_type": "code",
      "metadata": {
        "id": "0kyNwxDPKfVA",
        "outputId": "e7f1232c-7702-493c-d75f-b6c03092d840",
        "colab": {
          "base_uri": "https://localhost:8080/",
          "height": 295
        }
      },
      "source": [
        "# Visualising the clusters and interpretation\n",
        "plt.scatter(X[y_hc == 0, 0], X[y_hc == 0, 1], s = 100, c = 'cyan', label = '1st Cluster')\n",
        "plt.scatter(X[y_hc == 1, 0], X[y_hc == 1, 1], s = 100, c = 'green', label = '2nd Cluster')\n",
        "plt.scatter(X[y_hc == 2, 0], X[y_hc == 2, 1], s = 100, c = 'red', label = '3rd Cluster')\n",
        "plt.title('Clusters of customers')\n",
        "plt.xlabel('Annual Salary (k$)')\n",
        "plt.ylabel('Spendings (1 to 100)')\n",
        "plt.legend()\n",
        "plt.show()\n",
        "# just for my refernce : 0,1,2 are the clusters as is obvious , and the 0,1 are the axis numbers where 0=x ( for annual salary) , 1=y (for spendings)"
      ],
      "execution_count": 15,
      "outputs": [
        {
          "output_type": "display_data",
          "data": {
            "image/png": "[encoded data removed]",
            "text/plain": [
              "<Figure size 432x288 with 1 Axes>"
            ]
          },
          "metadata": {
            "tags": [],
            "needs_background": "light"
          }
        }
      ]
    },
    {
      "cell_type": "code",
      "metadata": {
        "id": "8zgGhmh_kXGS"
      },
      "source": [
        ""
      ],
      "execution_count": null,
      "outputs": []
    }
  ]
}